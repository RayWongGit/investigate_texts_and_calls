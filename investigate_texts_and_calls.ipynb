{
 "cells": [
  {
   "cell_type": "markdown",
   "metadata": {},
   "source": [
    "# Investigate texts and calls\n",
    "### Task 0 \n",
    "\n",
    "**What is the first record of texts and what is the last record of calls**\n",
    "\n",
    "Print messages:\n",
    "\n",
    "\"First record of texts, ... texts ... at time ...\"\n",
    "\n",
    "\"Last record of calls, ... calls ... at time ..., lasting ... seconds\""
   ]
  },
  {
   "cell_type": "code",
   "execution_count": 1,
   "metadata": {},
   "outputs": [],
   "source": [
    "# read texts.csv file to variable texts\n",
    "# read calls.csv file to variable calls\n",
    "import csv\n",
    "with open('texts.csv', 'r') as f:\n",
    "    reader = csv.reader(f)\n",
    "    texts = list(reader)\n",
    "\n",
    "with open('calls.csv', 'r') as f:\n",
    "    reader = csv.reader(f)\n",
    "    calls = list(reader)"
   ]
  },
  {
   "cell_type": "code",
   "execution_count": 2,
   "metadata": {},
   "outputs": [
    {
     "data": {
      "text/plain": [
       "['97424 22395', '90365 06212', '01-09-2016 06:03:22']"
      ]
     },
     "execution_count": 2,
     "metadata": {},
     "output_type": "execute_result"
    }
   ],
   "source": [
    "# get the first text in the texts list with the slice index 0\n",
    "first_text = texts[0]\n",
    "first_text"
   ]
  },
  {
   "cell_type": "code",
   "execution_count": 3,
   "metadata": {},
   "outputs": [
    {
     "name": "stdout",
     "output_type": "stream",
     "text": [
      "First record of texts, 97424 22395 texts 90365 06212 at time 01-09-2016 06:03:22\n"
     ]
    }
   ],
   "source": [
    "print('First record of texts, {0[0]} texts {0[1]} at time {0[2]}'.format(first_text))"
   ]
  },
  {
   "cell_type": "code",
   "execution_count": 4,
   "metadata": {},
   "outputs": [
    {
     "data": {
      "text/plain": [
       "['98447 62998', '(080)46304537', '30-09-2016 23:57:15', '2151']"
      ]
     },
     "execution_count": 4,
     "metadata": {},
     "output_type": "execute_result"
    }
   ],
   "source": [
    "#get the last call in the calls list with the slice index -1\n",
    "last_call = calls[-1]\n",
    "last_call"
   ]
  },
  {
   "cell_type": "code",
   "execution_count": 5,
   "metadata": {},
   "outputs": [
    {
     "name": "stdout",
     "output_type": "stream",
     "text": [
      "Last record of calls, 98447 62998 calls (080)46304537 at time 30-09-2016 23:57:15, lasting 2151 seconds\n"
     ]
    }
   ],
   "source": [
    "print('Last record of calls, {0[0]} calls {0[1]} at time {0[2]}, lasting {0[3]} seconds'.format(last_call))"
   ]
  },
  {
   "cell_type": "markdown",
   "metadata": {},
   "source": [
    "### Task 1\n",
    "\n",
    "**How many different telephone numbers are there in the records?**\n",
    "\n",
    "Print a message: \n",
    "\n",
    "\"There are ... different telephone numbers in the records.\""
   ]
  },
  {
   "cell_type": "code",
   "execution_count": 6,
   "metadata": {},
   "outputs": [
    {
     "data": {
      "text/plain": [
       "570"
      ]
     },
     "execution_count": 6,
     "metadata": {},
     "output_type": "execute_result"
    }
   ],
   "source": [
    "phone_num = []\n",
    "for call in calls: # add all phone numbers in the calls list to phone_num list\n",
    "    phone_num.append(call[0])\n",
    "    phone_num.append(call[1])\n",
    "for text in texts: # add all phone numbers in the texts list to phone_num list\n",
    "    phone_num.append(text[0])\n",
    "    phone_num.append(text[1])\n",
    "phone_num = set(phone_num) # get the unique phone numbers with set()\n",
    "count = len(phone_num)\n",
    "count"
   ]
  },
  {
   "cell_type": "code",
   "execution_count": 7,
   "metadata": {},
   "outputs": [
    {
     "name": "stdout",
     "output_type": "stream",
     "text": [
      "There are 570 different telephone numbers in the records\n"
     ]
    }
   ],
   "source": [
    "print('There are {} different telephone numbers in the records'.format(count))"
   ]
  },
  {
   "cell_type": "markdown",
   "metadata": {},
   "source": [
    "### TASK 2\n",
    "\n",
    "**Which telephone number spent the longest time on the phone during the period?   \n",
    "Don't forget that time spent answering a call is also time spent on the phone.**\n",
    "\n",
    "Print a message: \n",
    "\" ... spent the longest time, ... seconds, on the phone during September 2016.\". \n",
    "\n",
    "**HINT**: Build a dictionary with telephone numbers as keys, and their total time spent on the phone as the values. \n",
    "\n",
    "You might find it useful to write a function that takes a key and a value and modifies a dictionary. \n",
    "\n",
    "If the key is already in the dictionary, add the value to the key's existing value. \n",
    "\n",
    "If the key does not already appear in the dictionary, add it and set its value to be the given value."
   ]
  },
  {
   "cell_type": "code",
   "execution_count": 8,
   "metadata": {},
   "outputs": [],
   "source": [
    "# build a null dictionary called time_on_phone, for both the call-in numbers and call-out numbers\n",
    "# if the phone number is in the dic, add lasting time to the value of the phone num.\n",
    "# if the phone number is not in the dic, assigne the lasting time to the value of the phone num.\n",
    "time_on_phone = {}\n",
    "for call in calls:\n",
    "    if call[0] in time_on_phone: \n",
    "        time_on_phone[call[0]] += float(call[3])\n",
    "    else:\n",
    "        time_on_phone[call[0]] = float(call[3])\n",
    "    if call[1] in time_on_phone: \n",
    "        time_on_phone[call[1]] += float(call[3])\n",
    "    else: \n",
    "        time_on_phone[call[1]] = float(call[3])\n",
    "result = max(zip(time_on_phone.values(), time_on_phone.keys()))"
   ]
  },
  {
   "cell_type": "code",
   "execution_count": 9,
   "metadata": {},
   "outputs": [
    {
     "name": "stdout",
     "output_type": "stream",
     "text": [
      "(080)33251027 spent the longest time, 90456.0 seconds, on the phone during September 2016.\n"
     ]
    }
   ],
   "source": [
    "print('{0[1]} spent the longest time, {0[0]} seconds, on the phone during September 2016.'.format(result))"
   ]
  },
  {
   "cell_type": "markdown",
   "metadata": {},
   "source": [
    "### TASK 3\n",
    "(080) is the area code for fixed line telephones in Bangalore. \n",
    "Fixed line numbers include parentheses, so Bangalore numbers \n",
    "have the form (080)xxxxxxx.)\n",
    "\n",
    "**Part A: Find all of the area codes and mobile prefixes called by people\n",
    "in Bangalore.**\n",
    " - Fixed lines start with an area code enclosed in brackets. The area \n",
    "   codes vary in length but always begin with 0.\n",
    " - Mobile numbers have no parentheses, but have a space in the middle\n",
    "   of the number to help readability. The prefix of a mobile number\n",
    "   is its first four digits, and they always start with 7, 8 or 9.\n",
    " - Telemarketers' numbers have no parentheses or space, but they start\n",
    "   with the area code 140.\n",
    "\n",
    "Print the answer as part of a message:\n",
    "\n",
    "\"The numbers called by people in Bangalore have codes:\" ...\n",
    "\n",
    "The list of codes should be print out one per line in lexicographic order with no duplicates."
   ]
  },
  {
   "cell_type": "code",
   "execution_count": 10,
   "metadata": {},
   "outputs": [
    {
     "name": "stdout",
     "output_type": "stream",
     "text": [
      "The numbers called by people in Bangalore have codes:\n",
      "022\n",
      "040\n",
      "04344\n",
      "044\n",
      "04546\n",
      "0471\n",
      "080\n",
      "0821\n",
      "74062\n",
      "74064\n",
      "74066\n",
      "77956\n",
      "78130\n",
      "78135\n",
      "78293\n",
      "78295\n",
      "81510\n",
      "81513\n",
      "81515\n",
      "81517\n",
      "81524\n",
      "83013\n",
      "84312\n",
      "84313\n",
      "84319\n",
      "87146\n",
      "90087\n",
      "90088\n",
      "90192\n",
      "90194\n",
      "90196\n",
      "90199\n",
      "90351\n",
      "90355\n",
      "90365\n",
      "90368\n",
      "92414\n",
      "92415\n",
      "92421\n",
      "92423\n",
      "92429\n",
      "93412\n",
      "93414\n",
      "93426\n",
      "93427\n",
      "93428\n",
      "93432\n",
      "93434\n",
      "94001\n",
      "94002\n",
      "94005\n",
      "94480\n",
      "94482\n",
      "94488\n",
      "94491\n",
      "94495\n",
      "95263\n",
      "95266\n",
      "95267\n",
      "96569\n",
      "97380\n",
      "97386\n",
      "97402\n",
      "97406\n",
      "97410\n",
      "97415\n",
      "97416\n",
      "97418\n",
      "97422\n",
      "97424\n",
      "98440\n",
      "98442\n",
      "98443\n",
      "98445\n",
      "98446\n",
      "98447\n",
      "98448\n",
      "98458\n",
      "98459\n",
      "99001\n",
      "99003\n",
      "99004\n",
      "99612\n"
     ]
    }
   ],
   "source": [
    "import re\n",
    "called_by_Ban = []\n",
    "codes = []\n",
    "# first get all the phone numbers that are called by Bangalore\n",
    "for call in calls:\n",
    "    if call[0][0:5] == '(080)':\n",
    "        #print(call[0])\n",
    "        called_by_Ban.append(call[1])\n",
    "# get the codes with regular expression\n",
    "ptn1 = r'^[(]([0]\\d+)[)]\\d+'\n",
    "ptn2 = r'^([789]\\d{3}\\d*)\\s{1}\\d+'\n",
    "for num in called_by_Ban:\n",
    "    match1 = re.search(ptn1, num)\n",
    "    match2 = re.search(ptn2, num)\n",
    "    if match1:\n",
    "        #print(match1.group(1))\n",
    "        codes.append(match1.group(1))\n",
    "    elif match2:\n",
    "        #print(match2.group(1))\n",
    "        codes.append(match2.group(1))\n",
    "codes_unique = list(set(codes))\n",
    "print(\"The numbers called by people in Bangalore have codes:\" + '\\n' + '\\n'.join(sorted(codes_unique)))"
   ]
  },
  {
   "cell_type": "markdown",
   "metadata": {},
   "source": [
    "**Part B: What percentage of calls from fixed lines in Bangalore are made\n",
    "to fixed lines also in Bangalore? In other words, of all the calls made\n",
    "from a number starting with \"(080)\", what percentage of these calls\n",
    "were made to a number also starting with \"(080)\"?**\n",
    "\n",
    "Print the answer as a part of a message:\n",
    "\n",
    "\"... percent of calls from fixed lines in Bangalore are calls to other fixed lines in Bangalore.\"\n",
    "\n",
    "The percentage should have 2 decimal digits"
   ]
  },
  {
   "cell_type": "code",
   "execution_count": 11,
   "metadata": {},
   "outputs": [
    {
     "name": "stdout",
     "output_type": "stream",
     "text": [
      "24.81 percent of calls from fixed lines in Bangalore are calls to other fixed lines in Bangalore\n"
     ]
    }
   ],
   "source": [
    "count = 0\n",
    "for code in codes:\n",
    "    if code == '080':\n",
    "        count += 1\n",
    "perc = (count / len(codes)) * 100\n",
    "\n",
    "        \n",
    "print('{} percent of calls from fixed lines in Bangalore are calls to other fixed lines in Bangalore'.format('%.2f' % perc))  \n",
    "\n"
   ]
  },
  {
   "cell_type": "markdown",
   "metadata": {},
   "source": [
    "### TASK 4\n",
    "\n",
    "**The telephone company want to identify numbers that might be doing telephone marketing.** \n",
    "\n",
    "Create a set of possible telemarketers: \n",
    "\n",
    "these are numbers that make outgoing calls but never send texts, receive texts or receive incoming calls.\n",
    "\n",
    "Print a message: \n",
    "\"These numbers could be telemarketers: ...\"\n",
    "The list of numbers should be print out one per line in lexicographic order with no duplicates."
   ]
  },
  {
   "cell_type": "code",
   "execution_count": 12,
   "metadata": {},
   "outputs": [
    {
     "name": "stdout",
     "output_type": "stream",
     "text": [
      "These numbers could be telemarketers:\n",
      "(022)37572285\n",
      "(022)65548497\n",
      "(022)68535788\n",
      "(022)69042431\n",
      "(040)30429041\n",
      "(044)22020822\n",
      "(0471)2171438\n",
      "(0471)6579079\n",
      "(080)20383942\n",
      "(080)25820765\n",
      "(080)31606520\n",
      "(080)40362016\n",
      "(080)60463379\n",
      "(080)60998034\n",
      "(080)62963633\n",
      "(080)64015211\n",
      "(080)69887826\n",
      "(0821)3257740\n",
      "1400481538\n",
      "1401747654\n",
      "1402316533\n",
      "1403072432\n",
      "1403579926\n",
      "1404073047\n",
      "1404368883\n",
      "1404787681\n",
      "1407539117\n",
      "1408371942\n",
      "1408409918\n",
      "1408672243\n",
      "1409421631\n",
      "1409668775\n",
      "1409994233\n",
      "74064 66270\n",
      "78291 94593\n",
      "87144 55014\n",
      "90351 90193\n",
      "92414 69419\n",
      "94495 03761\n",
      "97404 30456\n",
      "97407 84573\n",
      "97442 45192\n",
      "99617 25274\n"
     ]
    }
   ],
   "source": [
    "# create 4 lists to store all the phone numbers call out / receive calls / send text / receive text\n",
    "# create a null list called telemarketer\n",
    "\n",
    "calls_out = []\n",
    "calls_in = []\n",
    "text_out = []\n",
    "text_in = []\n",
    "telemarketer = []\n",
    "for call in calls:\n",
    "    calls_out.append(call[0])\n",
    "    calls_in.append(call[1])\n",
    "for text in texts:\n",
    "    text_out.append(text[0])\n",
    "    text_in.append(text[1])\n",
    "#identify telemarketers\n",
    "for num in calls_out:\n",
    "    if num not in calls_in and num not in text_out and num not in text_in:\n",
    "        telemarketer.append(num)\n",
    "telemarketer = list(set(telemarketer))\n",
    "print('These numbers could be telemarketers:' + '\\n' + '\\n'.join(sorted(telemarketer)))"
   ]
  },
  {
   "cell_type": "code",
   "execution_count": null,
   "metadata": {},
   "outputs": [],
   "source": []
  }
 ],
 "metadata": {
  "kernelspec": {
   "display_name": "Python 3",
   "language": "python",
   "name": "python3"
  },
  "language_info": {
   "codemirror_mode": {
    "name": "ipython",
    "version": 3
   },
   "file_extension": ".py",
   "mimetype": "text/x-python",
   "name": "python",
   "nbconvert_exporter": "python",
   "pygments_lexer": "ipython3",
   "version": "3.7.3"
  }
 },
 "nbformat": 4,
 "nbformat_minor": 2
}
